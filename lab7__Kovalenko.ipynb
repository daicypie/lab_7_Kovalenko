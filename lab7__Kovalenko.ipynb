{
 "cells": [
  {
   "cell_type": "markdown",
   "metadata": {},
   "source": [
    "---\n",
    "title: 'Лабораторна робота №7. Словники, кортежі. Обробка винятків (empty)'\n",
    "description:\n",
    "   Документ зроблено за допомогою [Quarto](https://quarto.org/)\n",
    "author: \"&copy; <span style='color: blue;'>Anastasia Kovalenko</span>, 2024\"\n",
    "date: \"24.10.2024\"\n",
    "lang: ukr\n",
    "format:\n",
    "  html:\n",
    "    code-fold: true\n",
    "    toc: true # меню\n",
    "    toc_float: # спливаюче меню  \n",
    "      collapsed: true # авто\n",
    "      number_sections: true\n",
    "jupyter: python3\n",
    "---"
   ]
  },
  {
   "cell_type": "markdown",
   "metadata": {},
   "source": [
    "__Мета:__ _навчитися працювати зі структурами даних Кортеж та Словник. Навчитись обробляти основні типи винятків_"
   ]
  },
  {
   "cell_type": "markdown",
   "metadata": {},
   "source": [
    "## Робота зі словниками"
   ]
  },
  {
   "cell_type": "markdown",
   "metadata": {},
   "source": [
    "### Приклад 1\n",
    "\n",
    "Створіть кортеж, який містить інформацію про результати іспитів з трьох предметів для студента (наприклад, математика, фізика та хімія). Виведіть на екран середній бал та максимальний бал."
   ]
  },
  {
   "cell_type": "code",
   "execution_count": 36,
   "metadata": {},
   "outputs": [
    {
     "name": "stdout",
     "output_type": "stream",
     "text": [
      "Середній бал: 81.66666666666667\n",
      "Максимальний бал: 90\n"
     ]
    }
   ],
   "source": [
    "# results = (80, 75, 90)\n",
    "\n",
    "average_score = sum(results) / len(results)\n",
    "max_score = max(results)\n",
    "\n",
    "print(f\"Середній бал: {average_score}\")\n",
    "print(f\"Максимальний бал: {max_score}\")"
   ]
  },
  {
   "cell_type": "markdown",
   "metadata": {},
   "source": [
    "У цьому коді ми створюємо кортеж `results`, який містить оцінки студента з трьох предметів. Потім ми обчислюємо середній бал, використовуючи вбудовані функції `sum` та `len`, та максимальний бал, використовуючи вбудовану функцію `max`. Нарешті, ми виводимо ці значення на екран за допомогою функції `print`. Водночас ми продемонстрували один з варіантів форматованого виводу."
   ]
  },
  {
   "cell_type": "markdown",
   "metadata": {},
   "source": [
    "### Приклад 2 "
   ]
  },
  {
   "cell_type": "markdown",
   "metadata": {},
   "source": [
    "Створіть програму, яка буде обчислювати площу трикутника за трьома сторонами, які користувач введе з клавіатури. Збережіть введені користувачем значення за допомогою кортежів та виведіть їх на екран."
   ]
  },
  {
   "cell_type": "code",
   "execution_count": 37,
   "metadata": {},
   "outputs": [
    {
     "name": "stdout",
     "output_type": "stream",
     "text": [
      "Введіть довжину першої сторони трикутника:  1\n",
      "Введіть довжину другої сторони трикутника:  2\n",
      "Введіть довжину третьої сторони трикутника:  3\n"
     ]
    },
    {
     "name": "stdout",
     "output_type": "stream",
     "text": [
      "Довжина сторін трикутника: (1.0, 2.0, 3.0)\n",
      "Площа трикутника: 0.0\n"
     ]
    }
   ],
   "source": [
    "a = float(input(\"Введіть довжину першої сторони трикутника: \"))\n",
    "b = float(input(\"Введіть довжину другої сторони трикутника: \"))\n",
    "c = float(input(\"Введіть довжину третьої сторони трикутника: \"))\n",
    "\n",
    "# обчислюємо півпериметр\n",
    "p = (a + b + c) / 2\n",
    "\n",
    "# обчислюємо площу трикутника за формулою Герона\n",
    "area = (p * (p - a) * (p - b) * (p - c)) ** 0.5\n",
    "\n",
    "# зберігаємо введені користувачем значення у кортеж\n",
    "triangle_sides = (a, b, c)\n",
    "\n",
    "# виводимо на екран введені користувачем значення та площу трикутника\n",
    "print(f\"Довжина сторін трикутника: {triangle_sides}\")\n",
    "print(f\"Площа трикутника: {area}\")\n"
   ]
  },
  {
   "cell_type": "markdown",
   "metadata": {},
   "source": [
    "У цьому прикладі ми використовуємо кортеж `triangle_sides`, щоб зберегти довжини трьох сторін трикутника, які введені користувачем з клавіатури. "
   ]
  },
  {
   "cell_type": "markdown",
   "metadata": {},
   "source": [
    "### Приклад 3 "
   ]
  },
  {
   "cell_type": "markdown",
   "metadata": {},
   "source": [
    "Напишіть програму, яка змінює порядок елементів у кортежі. Користувач повинен ввести кортеж, а програма повинна вивести його елементи у зворотному порядку."
   ]
  },
  {
   "cell_type": "code",
   "execution_count": 38,
   "metadata": {},
   "outputs": [
    {
     "name": "stdout",
     "output_type": "stream",
     "text": [
      "Введіть елементи кортежу, розділені комою:  1, 2, 3, 4, 5\n"
     ]
    },
    {
     "name": "stdout",
     "output_type": "stream",
     "text": [
      "Зворотний порядок елементів кортежу: (' 5', ' 4', ' 3', ' 2', '1')\n"
     ]
    }
   ],
   "source": [
    "t = tuple(input(\"Введіть елементи кортежу, розділені комою: \").split(','))\n",
    "\n",
    "# змінюємо порядок елементів у кортежі\n",
    "reversed_t = t[::-1]\n",
    "\n",
    "# виводимо зворотний порядок елементів на екран\n",
    "print(f\"Зворотний порядок елементів кортежу: {reversed_t}\")"
   ]
  },
  {
   "cell_type": "markdown",
   "metadata": {},
   "source": [
    "У цьому прикладі ми використовуємо оператор зрізу `[::]`, щоб змінити порядок елементів у кортежі `t` на зворотний порядок. Потім ми виводимо на екран зворотний порядок елементів у новому кортежі `reversed_t`.\n",
    "\n",
    "Наприклад, якщо користувач введе `\"1,2,3,4,5\"`, програма виведе на екран: \"Зворотний порядок елементів кортежу: `('5', '4', '3', '2', '1')`."
   ]
  },
  {
   "cell_type": "markdown",
   "metadata": {},
   "source": [
    "### Завдання 1"
   ]
  },
  {
   "cell_type": "markdown",
   "metadata": {},
   "source": [
    "Напишіть програму, яка створює кортеж зі списку чисел, а потім виводить на екран всі числа, які менші за задане число `n`. Умова: користувач вводить число `n`, і   щоб створити новий список `result`, який містить всі числа з кортежу, які менші за `n`, реалізувати за допомогою генератора списків."
   ]
  },
  {
   "cell_type": "code",
   "execution_count": 31,
   "metadata": {},
   "outputs": [],
   "source": [
    "numbers = (10, 20, 30, 40, 50, 60)\n",
    "\n",
    "n = int(input(\"Введіть число  n: \"))\n",
    "\n",
    "result = []\n",
    "for num in numbers:\n",
    "    if num < n:\n",
    "        result.append(num)\n",
    "\n",
    "print(\"Числа, менші за\", n, \":\", result)"
   ]
  },
  {
   "cell_type": "markdown",
   "metadata": {},
   "source": [
    "### Завдання 2\n",
    "Напишіть програму, яка створює кортеж з трьох елементів, які є рядками, та з'єднує їх в один рядок з комою як роздільником. Примітка: з'єднати рядки також можна за допомогою методу `.joint()`"
   ]
  },
  {
   "cell_type": "code",
   "execution_count": 32,
   "metadata": {},
   "outputs": [],
   "source": [
    "strings_tuple = (\"Рядок 1\", \"Рядок 2\", \"Рядок 3\")\n",
    "\n",
    "result = \",\".join(strings_tuple)\n",
    "\n",
    "print(\"З'єднаний рядок:\", result)"
   ]
  },
  {
   "cell_type": "markdown",
   "metadata": {},
   "source": [
    "### Завдання 3 "
   ]
  },
  {
   "cell_type": "markdown",
   "metadata": {},
   "source": [
    "Створіть словник, який містить інформацію про книги в бібліотеці. Ключами будуть назви книг, а значеннями - автори, рік видання та кількість сторінок. Виведіть на екран інформацію про книгу, введену користувачем."
   ]
  },
  {
   "cell_type": "code",
   "execution_count": 33,
   "metadata": {},
   "outputs": [],
   "source": [
    "books_dict = { \"Голодні ігри\": {\"автор\": \"Сюзанна Колінз\", \"рік видання\": 2008, \"кількість сторінок\": 352},\n",
    "               \"Таємниці пенсіону\": {\"автор\": \"Аґата Крісті\", \"рік видання\": 1955, \"кількість сторінок\": 320},\n",
    "               \"Бріджертони. Герцог і я. \": {\"автор\": \"Джулія Квінн\", \"рік видання\": 2000, \"кількість сторінок\": 496},\n",
    "               \"Дім дивних дітей\": {\"автор\": \"Ренсом Ріггз\", \"рік видання\": 2011, \"кількість сторінок\": 432},\n",
    "               \"Втрачений рай\": {\"автор\": \"Джон Мільтон\", \"рік видання\": 1667, \"кількість сторінок\": 480},\n",
    "               \"Шістка воронів\": {\"автор\": \"Лі Бардуґо\", \"рік видання\": 2015, \"кількість сторінок\": 544},\n",
    "               \"Місто кісток\": {\"автор\": \"Кассандра Клер\", \"рік видання\": 2007, \"кількість сторінок\": 528},\n",
    "               \"Timeless.Рубінова книга\": {\"автор\": \"Керстін Гір\", \"рік видання\": 2009, \"кількість сторінок\": 304},\n",
    "               }\n",
    "\n",
    "book_name = input(\"Введіть назву книги: \")\n",
    "\n",
    "if book_name in books_dict.keys():\n",
    "    print(\"Інформація про книгу: \")\n",
    "    print(\"Назва: \", book_name)\n",
    "    print(\"Автор: \", books_dict[book_name] [\"автор\"])\n",
    "    print(\"Рік видання: \", books_dict[book_name][\"рік видання\"])\n",
    "    print(\"Кількість сторінок: \", books_dict[book_name] [\"кількість сторінок\"])\n",
    "else:\n",
    "    print(\"Книга не знайдена в бібліотеці.\")"
   ]
  },
  {
   "cell_type": "markdown",
   "metadata": {},
   "source": [
    "## Сумісна робота зі словниками і кортежами"
   ]
  },
  {
   "cell_type": "markdown",
   "metadata": {},
   "source": [
    "### Приклад 1"
   ]
  },
  {
   "cell_type": "markdown",
   "metadata": {},
   "source": [
    "Написати програму, яка веде облік студентів групи, забезпечуючи можливість зберігати ім'я і прізвище студента та його оцінки, і виводить середній бал по предметах."
   ]
  },
  {
   "cell_type": "code",
   "execution_count": 22,
   "metadata": {},
   "outputs": [],
   "source": [
    "school_class = {}\n",
    "\n",
    "while True:\n",
    "    name = input(\"Введіть ім'я та прізвище студента: \")\n",
    "    if name == '':\n",
    "        break\n",
    "\n",
    "    score = int(input(\"Введіть оцінку студента (0-10): \"))\n",
    "    if score not in range(0, 11):\n",
    "        print(\"Оцінка повинна бути в межах від 0 до 10.\")\n",
    "        continue\n",
    "\n",
    "    if name in school_class:\n",
    "        school_class[name] += (score,)\n",
    "    else:\n",
    "        school_class[name] = (score,)\n",
    "\n",
    "print(\"\\nСередній бал по предметах:\")\n",
    "for name in sorted(school_class.keys()):\n",
    "    total = sum(school_class[name])\n",
    "    count = len(school_class[name])\n",
    "    average = total / count\n",
    "    print(f\"{name}: {average:.2f}\")"
   ]
  },
  {
   "cell_type": "markdown",
   "metadata": {},
   "source": [
    "### Завдання 4"
   ]
  },
  {
   "cell_type": "markdown",
   "metadata": {},
   "source": [
    "Напишіть програму, яка створює словник, що містить інформацію про студентів, використовуючи вказані кортежі в якості значень. Кожен ключ -- це прізвище студента. Виведіть на екран інформацію про студента, введеного користувачем."
   ]
  },
  {
   "cell_type": "code",
   "execution_count": 34,
   "metadata": {},
   "outputs": [],
   "source": [
    "students_dict = {\n",
    "    \"Іванов\": (\"Іван\", 20, 85),\n",
    "    \"Петренко\": (\"Петро\", 21, 90),\n",
    "    \"Кравченко\": (\"Олена\", 19, 95),\n",
    "    \"Шевченко\": (\"Марія\", 20, 88)\n",
    "}\n",
    "\n",
    "surname = input(\"Введіть прізвище студента: \")\n",
    "\n",
    "if surname in students_dict:\n",
    "    # Виводимо інформацію про студента\n",
    "    name, age, score = students_dict[surname]\n",
    "    print(\"Інформація про студента:\")\n",
    "    print(\"Прізвище:\", surname)\n",
    "    print(\"Ім'я:\", name)\n",
    "    print(\"Вік:\", age)\n",
    "    print(\"Оцінка:\", score)\n",
    "else:\n",
    "    print(\"Студента з таким прізвищем не знайдено.\")"
   ]
  },
  {
   "cell_type": "markdown",
   "metadata": {},
   "source": [
    "### Завдання 5"
   ]
  },
  {
   "cell_type": "markdown",
   "metadata": {},
   "source": [
    "Створіть словник, який містить інформацію про більше, ніж один номер телефону для кожного з контактів в телефонній книзі. Ключами будуть імена контактів, а значеннями - список їхніх номерів телефонів. Напишіть функцію, яка дозволяє додати новий номер телефону до списку номерів телефону певного контакту. Потім виведіть на екран список номерів телефонів для всіх контактів."
   ]
  },
  {
   "cell_type": "code",
   "execution_count": 35,
   "metadata": {},
   "outputs": [],
   "source": [
    "phone_book = {\n",
    "    \"Іван Іваненко\": [\"0671234567\", \"0937654321\"],\n",
    "    \"Петро Петренко\": [\"0509876543\", \"0665432109\"],\n",
    "    \"Марія Шевченко\": [\"0954321098\", \"0632109876\"],\n",
    "    \"Олена Кравченко\": [\"0678901234\", \"0934567890\"]\n",
    "}\n",
    "\n",
    "def add_phone_number(name, phone_number):\n",
    "    if name in phone_book:\n",
    "        phone_book[name].append(phone_number)\n",
    "        print(f\"Новий номер телефону {phone_number} додано до контакту {name}.\")\n",
    "    else:\n",
    "        print(f\"Контакту {name} не знайдено в телефонній книзі.\")\n",
    "\n",
    "add_phone_number(\"Іван Іваненко\", \"0998765432\")\n",
    "add_phone_number(\"Петро Петренко\", \"0632109876\")\n",
    "add_phone_number(\"Марія Шевченко\", \"0956789012\")\n",
    "\n",
    "\n",
    "print(\"\\nСписок номерів телефонів для всіх контактів:\")\n",
    "for name, phones in phone_book.items():\n",
    "    print(f\"{name}: {', '.join(phones)}\")"
   ]
  },
  {
   "cell_type": "markdown",
   "metadata": {},
   "source": [
    "## Контрольні запитання\n",
    "\n",
    "1. Що виведе наступний код?\n",
    "\n",
    "```\n",
    "my_tuple = (1, 2, 3)\n",
    "print(my_tuple[1:])\n",
    "```\n",
    "\n"
   ]
  },
  {
   "cell_type": "markdown",
   "metadata": {},
   "source": [
    "(2, 3)\n"
   ]
  },
  {
   "cell_type": "markdown",
   "metadata": {},
   "source": [
    "2. Що виведе наступний код?\n",
    "```\n",
    "my_dict = {'a': 1, 'b': 2, 'c': 3}\n",
    "print(my_dict.get('d', 4))\n",
    "```"
   ]
  },
  {
   "cell_type": "markdown",
   "metadata": {},
   "source": [
    "4"
   ]
  },
  {
   "cell_type": "markdown",
   "metadata": {},
   "source": [
    "3. Що виведе наступний код?\n",
    "```\n",
    "my_tuple = (1, 2, 3)\n",
    "my_tuple[0] = 4\n",
    "print(my_tuple)\n",
    "```"
   ]
  },
  {
   "cell_type": "markdown",
   "metadata": {},
   "source": [
    "Error"
   ]
  },
  {
   "cell_type": "markdown",
   "metadata": {},
   "source": [
    "4. Що виведе наступний код?\n",
    "```\n",
    "my_dict = {'a': 1, 'b': 2, 'c': 3}\n",
    "my_dict.update({'d': 4})\n",
    "print(my_dict)\n",
    "```"
   ]
  },
  {
   "cell_type": "markdown",
   "metadata": {},
   "source": [
    "{'a': 1, 'b': 2, 'c': 3, 'd': 4}\n"
   ]
  },
  {
   "cell_type": "markdown",
   "metadata": {},
   "source": []
  },
  {
   "cell_type": "markdown",
   "metadata": {},
   "source": [
    "{'a': 1, 'b': 2, 'c': 3, 'd': 4}"
   ]
  },
  {
   "cell_type": "markdown",
   "metadata": {},
   "source": [
    "1. https://www.geeksforgeeks.org/generating-a-set-of-tuples-from-a-list-of-tuples-in-python/\n",
    "2. https://stackoverflow.com/questions/23964488/return-tuple-of-any-two-items-in-list-which-if-summed-equal-given-int\n",
    "3. https://www.geeksforgeeks.org/python-string-join-method/\n",
    "4. https://www.freecodecamp.org/news/python-string-split-and-join-methods-explained-with-examples/\n",
    "5. https://www.geeksforgeeks.org/python-program-to-sort-and-find-the-data-in-the-student-records/\n",
    "6. https://python-forum.io/thread-18064.html"
   ]
  }
 ],
 "metadata": {
  "kernelspec": {
   "display_name": "Python 3 (ipykernel)",
   "language": "python",
   "name": "python3"
  },
  "language_info": {
   "codemirror_mode": {
    "name": "ipython",
    "version": 3
   },
   "file_extension": ".py",
   "mimetype": "text/x-python",
   "name": "python",
   "nbconvert_exporter": "python",
   "pygments_lexer": "ipython3",
   "version": "3.11.5"
  }
 },
 "nbformat": 4,
 "nbformat_minor": 4
}
